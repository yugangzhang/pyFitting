{
 "cells": [
  {
   "cell_type": "code",
   "execution_count": 18,
   "id": "fcad2dc0-95ba-40b5-af29-984d4d9f5286",
   "metadata": {},
   "outputs": [],
   "source": [
    "%run -i ~/Repos/pyFitting/pyFitting/core/__init__.py"
   ]
  },
  {
   "cell_type": "code",
   "execution_count": 19,
   "id": "a418dd41-8263-44ff-8626-f27bb43c32c2",
   "metadata": {},
   "outputs": [
    {
     "data": {
      "text/plain": [
       "<enum 'FitSpace'>"
      ]
     },
     "execution_count": 19,
     "metadata": {},
     "output_type": "execute_result"
    }
   ],
   "source": [
    "FitSpace"
   ]
  },
  {
   "cell_type": "code",
   "execution_count": null,
   "id": "f45a8e6f-b154-414e-97de-fc817af16fce",
   "metadata": {},
   "outputs": [],
   "source": []
  },
  {
   "cell_type": "code",
   "execution_count": 15,
   "id": "0965ac80-8d05-43fe-87d9-176a9542bd63",
   "metadata": {},
   "outputs": [],
   "source": [
    "import sys\n",
    "import os\n",
    "# Assuming your notebook is *outside* the pyFitting repository,\n",
    "# or you know the absolute path to the directory *containing* the 'pyFitting' package folder.\n",
    "# In your case, it seems to be ~/Repos/pyFitting/\n",
    "package_root_path = os.path.abspath('/home/yuzhang/Repos/pyFitting/') # Adjust if needed\n",
    "if package_root_path not in sys.path:\n",
    "    sys.path.insert(0, package_root_path)"
   ]
  },
  {
   "cell_type": "code",
   "execution_count": null,
   "id": "1c6a0133-8e1c-4035-9860-d4d469c28285",
   "metadata": {},
   "outputs": [],
   "source": []
  },
  {
   "cell_type": "code",
   "execution_count": null,
   "id": "d132f882-69d9-4c36-b418-b8002d48b3f8",
   "metadata": {},
   "outputs": [],
   "source": []
  },
  {
   "cell_type": "code",
   "execution_count": 22,
   "id": "c221b4dd-d041-4053-ab4f-a00234fd7bce",
   "metadata": {},
   "outputs": [],
   "source": [
    "from pyFitting.loss.standard import (\n",
    "    MSELoss,\n",
    "    Chi2Loss,\n",
    "    CorrelationLoss,\n",
    "    HybridLoss\n",
    ")"
   ]
  },
  {
   "cell_type": "code",
   "execution_count": 23,
   "id": "c633e62d-e53c-44ea-8394-c981a7a44429",
   "metadata": {},
   "outputs": [],
   "source": [
    "from pyFitting.optimizers.local import LocalOptimizer, compare_optimizers"
   ]
  },
  {
   "cell_type": "code",
   "execution_count": null,
   "id": "f0513788-b007-44d7-aff2-f01ce2e54591",
   "metadata": {},
   "outputs": [],
   "source": [
    "pyFitting"
   ]
  },
  {
   "cell_type": "code",
   "execution_count": 24,
   "id": "76f58ae9-5c95-4797-aed2-75482fd671f9",
   "metadata": {},
   "outputs": [],
   "source": [
    "from pyFitting.workflow.fitter import Fitter"
   ]
  },
  {
   "cell_type": "code",
   "execution_count": 20,
   "id": "09a0b8f3-58ea-4d19-810e-d3691e395899",
   "metadata": {},
   "outputs": [],
   "source": [
    "from pyFitting.data.array_data import ArrayData"
   ]
  },
  {
   "cell_type": "code",
   "execution_count": null,
   "id": "b91f1c90-249d-4522-92d8-55506fca4436",
   "metadata": {},
   "outputs": [],
   "source": [
    "pyFitting"
   ]
  },
  {
   "cell_type": "code",
   "execution_count": 16,
   "id": "19857aa1-a36d-43cf-ac04-f4c27c49c11a",
   "metadata": {},
   "outputs": [],
   "source": [
    "from pyFitting.core.interfaces import (\n",
    "    IData,\n",
    "    IModel,\n",
    "    ILoss,\n",
    "    IOptimizer,\n",
    "    IEvaluator\n",
    ")"
   ]
  },
  {
   "cell_type": "code",
   "execution_count": null,
   "id": "0bca3e87-a0ed-4b91-8439-d0f6d41ff40a",
   "metadata": {},
   "outputs": [],
   "source": []
  },
  {
   "cell_type": "code",
   "execution_count": null,
   "id": "a3fa3b41-7fda-47ad-ba95-507d2c295402",
   "metadata": {},
   "outputs": [],
   "source": []
  },
  {
   "cell_type": "code",
   "execution_count": 2,
   "id": "d7c69166-a4e5-4ef5-bc06-f0336e5f252e",
   "metadata": {},
   "outputs": [
    {
     "ename": "ImportError",
     "evalue": "attempted relative import with no known parent package",
     "output_type": "error",
     "traceback": [
      "\u001b[0;31m---------------------------------------------------------------------------\u001b[0m",
      "\u001b[0;31mImportError\u001b[0m                               Traceback (most recent call last)",
      "File \u001b[0;32m~/Repos/pyFitting/pyFitting/init.py:37\u001b[0m\n\u001b[1;32m      1\u001b[0m \u001b[38;5;124;03m\"\"\"\u001b[39;00m\n\u001b[1;32m      2\u001b[0m \u001b[38;5;124;03mpyFitting - Modular Fitting Framework\u001b[39;00m\n\u001b[1;32m      3\u001b[0m \n\u001b[0;32m   (...)\u001b[0m\n\u001b[1;32m     33\u001b[0m \u001b[38;5;124;03m    examples/saxs_fit.py\u001b[39;00m\n\u001b[1;32m     34\u001b[0m \u001b[38;5;124;03m\"\"\"\u001b[39;00m\n\u001b[1;32m     36\u001b[0m \u001b[38;5;66;03m# Core\u001b[39;00m\n\u001b[0;32m---> 37\u001b[0m \u001b[38;5;28;01mfrom\u001b[39;00m \u001b[38;5;21;01m.\u001b[39;00m\u001b[38;5;21;01mcore\u001b[39;00m \u001b[38;5;28;01mimport\u001b[39;00m (\n\u001b[1;32m     38\u001b[0m     FitSpace,\n\u001b[1;32m     39\u001b[0m     OptimizerType,\n\u001b[1;32m     40\u001b[0m     ParameterSet,\n\u001b[1;32m     41\u001b[0m     OptimizeResult,\n\u001b[1;32m     42\u001b[0m     FitResult\n\u001b[1;32m     43\u001b[0m )\n\u001b[1;32m     45\u001b[0m \u001b[38;5;66;03m# Data\u001b[39;00m\n\u001b[1;32m     46\u001b[0m \u001b[38;5;28;01mfrom\u001b[39;00m \u001b[38;5;21;01m.\u001b[39;00m\u001b[38;5;21;01mdata\u001b[39;00m \u001b[38;5;28;01mimport\u001b[39;00m ArrayData\n",
      "\u001b[0;31mImportError\u001b[0m: attempted relative import with no known parent package"
     ]
    }
   ],
   "source": [
    "%run -i ~/Repos/pyFitting/pyFitting/init.py"
   ]
  },
  {
   "cell_type": "code",
   "execution_count": 4,
   "id": "20a7d48c-2350-42fd-b1ca-96b789fe64d3",
   "metadata": {},
   "outputs": [
    {
     "ename": "ModuleNotFoundError",
     "evalue": "No module named 'pyFitting'",
     "output_type": "error",
     "traceback": [
      "\u001b[0;31m---------------------------------------------------------------------------\u001b[0m",
      "\u001b[0;31mModuleNotFoundError\u001b[0m                       Traceback (most recent call last)",
      "Cell \u001b[0;32mIn[4], line 1\u001b[0m\n\u001b[0;32m----> 1\u001b[0m \u001b[38;5;28;01mimport\u001b[39;00m \u001b[38;5;21;01mpyFitting\u001b[39;00m\n",
      "\u001b[0;31mModuleNotFoundError\u001b[0m: No module named 'pyFitting'"
     ]
    }
   ],
   "source": [
    "import pyFitting"
   ]
  },
  {
   "cell_type": "code",
   "execution_count": null,
   "id": "56b20994-d91b-42ad-ab4a-b132d8e76232",
   "metadata": {},
   "outputs": [],
   "source": []
  },
  {
   "cell_type": "code",
   "execution_count": null,
   "id": "107a6890-6847-44cd-af29-ef3686d5e8d6",
   "metadata": {},
   "outputs": [],
   "source": []
  },
  {
   "cell_type": "code",
   "execution_count": null,
   "id": "d545a419-3be9-4456-802f-1afd519427e1",
   "metadata": {},
   "outputs": [],
   "source": []
  },
  {
   "cell_type": "code",
   "execution_count": null,
   "id": "c5e74e32-fcfa-455d-8078-397e551094d9",
   "metadata": {},
   "outputs": [],
   "source": []
  }
 ],
 "metadata": {
  "kernelspec": {
   "display_name": "Python (pyScattering4)",
   "language": "python",
   "name": "pyscattering4"
  },
  "language_info": {
   "codemirror_mode": {
    "name": "ipython",
    "version": 3
   },
   "file_extension": ".py",
   "mimetype": "text/x-python",
   "name": "python",
   "nbconvert_exporter": "python",
   "pygments_lexer": "ipython3",
   "version": "3.9.20"
  }
 },
 "nbformat": 4,
 "nbformat_minor": 5
}
